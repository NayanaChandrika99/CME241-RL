{
 "cells": [
  {
   "cell_type": "code",
   "execution_count": null,
   "id": "33caa686-eed6-4bb4-acc1-1ac22606b582",
   "metadata": {},
   "outputs": [
    {
     "data": {
      "text/plain": [
       "7"
      ]
     },
     "execution_count": 1,
     "metadata": {},
     "output_type": "execute_result"
    }
   ],
   "source": [
    "from random import randint\n",
    "\n",
    "def six_sided():\n",
    "    return randint(1, 6)\n",
    "def roll_dice():\n",
    "    return six_sided() + six_sided()\n",
    "\n",
    "roll_dice()\n"
   ]
  },
  {
   "cell_type": "code",
   "execution_count": null,
   "id": "44a812cf-fa3b-4d13-8e42-3e39a9bee00a",
   "metadata": {},
   "outputs": [],
   "source": [
    "from abc import abstractmethod, ABC\n",
    "\n",
    "class Distribution(ABC):\n",
    "    @abstractmethod #the following will be a abstract method names \"sample\"\n",
    "    def sample(self):\n",
    "        pass\n"
   ]
  },
  {
   "cell_type": "code",
   "execution_count": 3,
   "id": "81aa99c4-4820-4d58-8f8f-8a6cd1660b96",
   "metadata": {},
   "outputs": [],
   "source": [
    "import random\n",
    "\n",
    "class Die(Distribution):\n",
    "    def __init__(self, sides):\n",
    "        self.sides = sides\n",
    "    def sample(self):\n",
    "        return random.randint(1, self.sides)\n",
    "six_sided = Die(6) #instance of the class \n",
    "\n",
    "def roll_dice():\n",
    "    return six_sided.sample() + six_sided.sample()\n",
    "\n",
    "class Die(Distribution):\n",
    "\n",
    "    def __repr__(self):\n",
    "        return f\"Die(sides={self.sides})\"\n",
    "        "
   ]
  },
  {
   "cell_type": "markdown",
   "id": "22ad09d4-f223-42f0-97cb-d55067a648a3",
   "metadata": {},
   "source": [
    "\"decorator\" for a Dataclass lets us skip manually writing the __init__, __repr__, __eq__ methods for the class. \n",
    "\n",
    "from dataclasses import dataclass \n",
    "@dataclass\n",
    "class Die(Distribution):: here Distribution is the absteact class which sets the behaviour that the  inherited classes need to have (interface class). its a method without any implementation \n",
    "\n",
    "Immutability:\n",
    "@dataclass(frozen=true)-----> will keep the from changing the no.of sides from the die class. if wee need a new Die, we can create a new one.\n",
    "changing the sides(attribute)\n",
    "\n",
    "\n",
    "Type Variable: \n",
    "For the Abstract class\n",
    "\n",
    "Functionality:\n",
    "class Distribution(ABC, Generic[A]):\n",
    "    def sample_n(self, n: int) -> Sequence[A]:\n",
    "        return [self.sample() for _ in range(n)] \n",
    "\n"
   ]
  },
  {
   "cell_type": "markdown",
   "id": "56c7a8ba-ad3c-4655-8774-0dcda5cf4805",
   "metadata": {},
   "source": [
    "Abstracting over computation\n",
    "\n",
    "*A way to model the behaviour of classes(objects) through their methods(actions).\n",
    "*Having a non-abstract method on the abstract class gives us the best of both worlds.\n",
    "\n",
    "First class Functions \n",
    "def repeat(action :Callable, n; int)"
   ]
  },
  {
   "cell_type": "code",
   "execution_count": null,
   "id": "697098fc-0071-4897-80aa-a63fc9abc88c",
   "metadata": {},
   "outputs": [],
   "source": [
    "from abc import ABC,abstractmethod\n"
   ]
  },
  {
   "cell_type": "code",
   "execution_count": null,
   "id": "5dfa3118-8056-4baf-adaa-52d5eb3153cd",
   "metadata": {},
   "outputs": [
    {
     "name": "stdout",
     "output_type": "stream",
     "text": [
      "\u001b[0;31mSignature:\u001b[0m \u001b[0mabstractmethod\u001b[0m\u001b[0;34m(\u001b[0m\u001b[0mfuncobj\u001b[0m\u001b[0;34m)\u001b[0m\u001b[0;34m\u001b[0m\u001b[0;34m\u001b[0m\u001b[0m\n",
      "\u001b[0;31mDocstring:\u001b[0m\n",
      "A decorator indicating abstract methods.\n",
      "\n",
      "Requires that the metaclass is ABCMeta or derived from it.  A\n",
      "class that has a metaclass derived from ABCMeta cannot be\n",
      "instantiated unless all of its abstract methods are overridden.\n",
      "The abstract methods can be called using any of the normal\n",
      "'super' call mechanisms.  abstractmethod() may be used to declare\n",
      "abstract methods for properties and descriptors.\n",
      "\n",
      "Usage:\n",
      "\n",
      "    class C(metaclass=ABCMeta):\n",
      "        @abstractmethod\n",
      "        def my_abstract_method(self, arg1, arg2, argN):\n",
      "            ...\n",
      "\u001b[0;31mFile:\u001b[0m      ~/Documents/GitHub/CME241-RL/code/<frozen abc>\n",
      "\u001b[0;31mType:\u001b[0m      function"
     ]
    }
   ],
   "source": [
    "ABC?\n",
    "abstractmethod?\n"
   ]
  },
  {
   "cell_type": "code",
   "execution_count": null,
   "id": "d55d44ad-4a62-4dc2-b0de-5ad5e21759e5",
   "metadata": {},
   "outputs": [],
   "source": [
    "#Define an abstract base class (ABC) \"Distribution\"\n",
    "\n",
    "class Distribution(ABC):\n",
    "    @abstractmethod #the following will be a abstract method names \"sample\"\n",
    "    def sample(self):\n",
    "        pass\n"
   ]
  },
  {
   "cell_type": "code",
   "execution_count": null,
   "id": "8abe23e5-6f19-49d1-9fdb-c2d22f6d1a40",
   "metadata": {},
   "outputs": [
    {
     "data": {
      "text/plain": [
       "'Let’s say that we wanted to model dice—perhaps for a game of D&D\\nor Monopoly.\\nWe could do this by defining a Die class that represents\\nan n-sided die and inherits from Distribution:'"
      ]
     },
     "execution_count": 7,
     "metadata": {},
     "output_type": "execute_result"
    }
   ],
   "source": [
    "'''Let’s say that we wanted to model dice—perhaps for a game of D&D\n",
    "or Monopoly.\n",
    "We could do this by defining a Die class that represents\n",
    "an n-sided die and inherits from Distribution:'''\n"
   ]
  },
  {
   "cell_type": "code",
   "execution_count": null,
   "id": "f435781b-180a-4b92-b9bf-2f16e4c40899",
   "metadata": {},
   "outputs": [
    {
     "data": {
      "text/plain": [
       "6"
      ]
     },
     "execution_count": 8,
     "metadata": {},
     "output_type": "execute_result"
    }
   ],
   "source": [
    "import random\n",
    "\n",
    "#Defining a concrete class\n",
    "class Die(Distribution):\n",
    "    \n",
    "    def __init__(self,sides):\n",
    "        self.sides= sides\n",
    "        \n",
    "    def sample(self):\n",
    "        return random.randint(1,self.sides)\n",
    "\n",
    "six_sides= Die(6)\n",
    "\n",
    "def roll_dice():\n",
    "    return six_sides.sample()+ six_sides.sample()\n",
    "    \n",
    "roll_dice()\n"
   ]
  },
  {
   "cell_type": "code",
   "execution_count": null,
   "id": "cf9e3996-1e7b-4225-ab82-22b0b8d5dc4c",
   "metadata": {},
   "outputs": [
    {
     "data": {
      "text/plain": [
       "array([-0.73036568])"
      ]
     },
     "execution_count": 9,
     "metadata": {},
     "output_type": "execute_result"
    }
   ],
   "source": [
    "# i tried a function where the interface wuld return a sample value from the normal distribution\n",
    "\n",
    "import numpy as n\n",
    "class Die(Distribution):\n",
    "    def __init__(self,sides):\n",
    "        self.sides= sides\n",
    "    def sample(self):\n",
    "        return n.random.normal(loc=0,scale=1,size=1)\n",
    "six_sides= Die(6)\n",
    "\n",
    "def roll_dice():\n",
    "    return six_sides.sample()+ six_sides.sample()\n",
    "    \n",
    "roll_dice()\n"
   ]
  },
  {
   "cell_type": "code",
   "execution_count": null,
   "id": "3dfcf80c-12f3-46ed-9bad-acc45144743e",
   "metadata": {},
   "outputs": [],
   "source": [
    "#Dataclasses: the dataclass module provides a decorator \n",
    "\n",
    "import dataclasses\n"
   ]
  },
  {
   "cell_type": "code",
   "execution_count": null,
   "id": "adff6321-a452-4a0f-a6b8-cc9b3f9d8b50",
   "metadata": {},
   "outputs": [
    {
     "ename": "NameError",
     "evalue": "name 'A' is not defined",
     "output_type": "error",
     "traceback": [
      "\u001b[0;31m---------------------------------------------------------------------------\u001b[0m",
      "\u001b[0;31mNameError\u001b[0m                                 Traceback (most recent call last)",
      "Cell \u001b[0;32mIn[11], line 4\u001b[0m\n\u001b[1;32m      1\u001b[0m \u001b[38;5;124;03m'''Mapping an argumnet to the expected_value() function'''\u001b[39;00m\n\u001b[1;32m      3\u001b[0m \u001b[38;5;28;01mdef\u001b[39;00m \u001b[38;5;21mexpected_value\u001b[39m(\n\u001b[0;32m----> 4\u001b[0m     d: Distribution[A],\n\u001b[1;32m      5\u001b[0m     f: Callable[[A], \u001b[38;5;28mfloat\u001b[39m],\n\u001b[1;32m      6\u001b[0m     n: \u001b[38;5;28mint\u001b[39m\n\u001b[1;32m      7\u001b[0m ) \u001b[38;5;241m-\u001b[39m\u001b[38;5;241m>\u001b[39m \u001b[38;5;28mfloat\u001b[39m:\n\u001b[1;32m      8\u001b[0m     \u001b[38;5;28;01mreturn\u001b[39;00m statistics\u001b[38;5;241m.\u001b[39mmean (f(d\u001b[38;5;241m.\u001b[39msample()) \u001b[38;5;28;01mfor\u001b[39;00m x \u001b[38;5;129;01min\u001b[39;00m \u001b[38;5;28mrange\u001b[39m(n))\n",
      "\u001b[0;31mNameError\u001b[0m: name 'A' is not defined"
     ]
    }
   ],
   "source": [
    "'''Mapping an argumnet to the expected_value() function'''\n",
    "\n",
    "def expected_value(\n",
    "    d: Distribution[A],\n",
    "    f: Callable[[A], float],\n",
    "    n: int\n",
    ") -> float:\n",
    "    return statistics.mean (f(d.sample()) for x in range(n))\n"
   ]
  },
  {
   "cell_type": "code",
   "execution_count": null,
   "id": "6f7bd93c-aec3-4d4a-b61b-d98d40c5fbf6",
   "metadata": {},
   "outputs": [
    {
     "ename": "NameError",
     "evalue": "name 'Coin' is not defined",
     "output_type": "error",
     "traceback": [
      "\u001b[0;31m---------------------------------------------------------------------------\u001b[0m",
      "\u001b[0;31mNameError\u001b[0m                                 Traceback (most recent call last)",
      "Cell \u001b[0;32mIn[71], line 2\u001b[0m\n\u001b[1;32m      1\u001b[0m \u001b[38;5;66;03m# without using lambda\u001b[39;00m\n\u001b[0;32m----> 2\u001b[0m \u001b[38;5;28;01mdef\u001b[39;00m \u001b[38;5;21mpay_off\u001b[39m(coin: Coin)\u001b[38;5;241m-\u001b[39m\u001b[38;5;241m>\u001b[39m \u001b[38;5;28mfloat\u001b[39m:\n\u001b[1;32m      3\u001b[0m     \u001b[38;5;28;01mreturn\u001b[39;00m \u001b[38;5;241m1.0\u001b[39m \u001b[38;5;28;01mif\u001b[39;00m coin\u001b[38;5;241m==\u001b[39m \u001b[38;5;124m\"\u001b[39m\u001b[38;5;124mheads\u001b[39m\u001b[38;5;124m\"\u001b[39m \u001b[38;5;28;01melse\u001b[39;00m \u001b[38;5;241m0\u001b[39m\n",
      "\u001b[0;31mNameError\u001b[0m: name 'Coin' is not defined"
     ]
    }
   ],
   "source": [
    "# without using lambda\n",
    "def pay_off(coin: Coin)-> float:\n",
    "    return 1.0 if coin== \"heads\" else 0\n",
    "    \n",
    "# with lambdas: function literals \n"
   ]
  },
  {
   "cell_type": "code",
   "execution_count": null,
   "id": "6da14ba7-2ab1-4d49-b992-650abca0ac1d",
   "metadata": {},
   "outputs": [],
   "source": [
    "def srt(a: float)->float:\n",
    "    x= a/2 #initial guess of the value sqrt(a)\n",
    "    x_n=a\n",
    "    while abs(x_n-x)>0.01:\n",
    "        x= x_n\n",
    "        x_n= (x+a/x)/2\n",
    "    return x_n\n",
    "    "
   ]
  },
  {
   "cell_type": "code",
   "execution_count": null,
   "id": "85040d65-4393-4a19-86b4-096746d0bc98",
   "metadata": {},
   "outputs": [
    {
     "name": "stdout",
     "output_type": "stream",
     "text": [
      "2.0000000929222947\n"
     ]
    }
   ],
   "source": [
    "print(srt(4))\n"
   ]
  },
  {
   "cell_type": "code",
   "execution_count": null,
   "id": "738e8f63-e889-4fdb-a5c3-49ec53f20679",
   "metadata": {},
   "outputs": [
    {
     "name": "stdout",
     "output_type": "stream",
     "text": [
      "3\n",
      "2\n",
      "1\n",
      "\n",
      "\n",
      "1\n",
      "2\n",
      "3\n",
      "\n",
      "\n",
      "0\n",
      "1\n",
      "2\n"
     ]
    }
   ],
   "source": [
    "#Iterators and Generators \n",
    "\n",
    "for x in [3,2,1]: print(x)\n",
    "print(\"\\n\")\n",
    "for x in {3,2,1}:\n",
    "    print(x)\n",
    "print(\"\\n\")\n",
    "for x in range(3):\n",
    "    print (x)\n"
   ]
  },
  {
   "cell_type": "code",
   "execution_count": null,
   "id": "c77e90bc-1ac7-4b9a-9e54-da09818bd605",
   "metadata": {},
   "outputs": [
    {
     "name": "stdout",
     "output_type": "stream",
     "text": [
      "a\n",
      "b\n",
      "c\n",
      "\n",
      "\n",
      "1\n",
      "2\n",
      "3\n",
      "\n",
      "\n",
      "('a', 1)\n",
      "('b', 2)\n",
      "('c', 3)\n"
     ]
    }
   ],
   "source": [
    "d ={'a':1, 'b': 2,'c': 3}\n",
    "for i in d: print(i) \n",
    "print(\"\\n\")\n",
    "for j in d.values(): print(j)\n",
    "print(\"\\n\")\n",
    "for k in d.items(): print(k)\n"
   ]
  },
  {
   "cell_type": "code",
   "execution_count": null,
   "id": "588c295d-c6df-4cab-ae85-7176da7d9eb2",
   "metadata": {},
   "outputs": [],
   "source": [
    "#generator example for the sqt examle \n",
    "\n",
    "import itertools \n",
    "from typing import Iterator\n",
    "def sqrt(a:float)-> Iterator[float]:\n",
    "    x= a/2\n",
    "    while True:\n",
    "        x= (x+(a/x))/2\n",
    "        yield x\n"
   ]
  },
  {
   "cell_type": "code",
   "execution_count": null,
   "id": "24db8201-affd-452a-a946-9a1ef1b880c1",
   "metadata": {},
   "outputs": [
    {
     "data": {
      "text/plain": [
       "[7.25,\n",
       " 5.349137931034482,\n",
       " 5.011394106532552,\n",
       " 5.000012953048684,\n",
       " 5.000000000016778,\n",
       " 5.0]"
      ]
     },
     "execution_count": 179,
     "metadata": {},
     "output_type": "execute_result"
    }
   ],
   "source": [
    "iterations = list(itertools.islice(sqrt(25),6))\n",
    "iterations\n"
   ]
  },
  {
   "cell_type": "code",
   "execution_count": null,
   "id": "312ea1b5-1022-4800-be05-18fc1357818b",
   "metadata": {},
   "outputs": [],
   "source": [
    "#usign itertools.pairwise(values)\n",
    "\n",
    "def converge(values:Iterator[float],threshold:float)-> Iterator[float]:\n",
    "    for a,b in itertools.pairwise(values):\n",
    "        yield a\n",
    "        if abs(a-b)<threshold:\n",
    "            break \n",
    "results=converge(sqrt(n),0.01)\n",
    "capped_results= itertools.islice(results,10000)\n"
   ]
  },
  {
   "cell_type": "code",
   "execution_count": null,
   "id": "1950e14e-897d-441e-96bc-27fad19ef8d0",
   "metadata": {},
   "outputs": [],
   "source": []
  }
 ],
 "metadata": {
  "kernelspec": {
   "display_name": "cme241",
   "language": "python",
   "name": "python3"
  },
  "language_info": {
   "codemirror_mode": {
    "name": "ipython",
    "version": 3
   },
   "file_extension": ".py",
   "mimetype": "text/x-python",
   "name": "python",
   "nbconvert_exporter": "python",
   "pygments_lexer": "ipython3",
   "version": "3.11.10"
  }
 },
 "nbformat": 4,
 "nbformat_minor": 5
}

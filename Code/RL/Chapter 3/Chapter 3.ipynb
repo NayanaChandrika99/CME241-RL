{
 "cells": [
  {
   "cell_type": "code",
   "execution_count": 61,
   "id": "f3ebdee5-43e3-46df-b152-310e54a796dc",
   "metadata": {},
   "outputs": [],
   "source": [
    "import numpy as np\n",
    "from dataclasses import dataclass"
   ]
  },
  {
   "cell_type": "markdown",
   "id": "0f44bbd5-5d78-47a7-9d7d-1356ae50ed30",
   "metadata": {},
   "source": [
    "#### Process 1"
   ]
  },
  {
   "cell_type": "code",
   "execution_count": 64,
   "id": "af975201-38eb-4123-a448-1845985db345",
   "metadata": {},
   "outputs": [],
   "source": [
    "#class for the process 1\n",
    "\n",
    "@dataclass\n",
    "class Process1:\n",
    "    @dataclass\n",
    "    class State:\n",
    "        price: int\n",
    "    level_param: int\n",
    "    alpha1: float= 0.25\n",
    "\n",
    "    def up_prob(self,state:State)->float:\n",
    "        return 1./ (1+ np.exp(-self.alpha1*(self.level_param-state.price)))\n",
    "\n",
    "    def next_state(self,state:State)->State:\n",
    "        up_move:int= np.random.binomial(1,self.up_prob(state),)[0]\n",
    "        return Process1.State(price=state.price+up_move*2-1)"
   ]
  },
  {
   "cell_type": "code",
   "execution_count": 65,
   "id": "33a9fdfb-1592-43de-9824-9d4ba936989b",
   "metadata": {},
   "outputs": [],
   "source": [
    "#Generator function to generate sampling traces\n",
    "\n",
    "def simulation(process, start_state):\n",
    "    state= start_state\n",
    "    while True:\n",
    "        yield state\n",
    "        state= process.next_state(state)"
   ]
  },
  {
   "cell_type": "code",
   "execution_count": 66,
   "id": "115b6b7f-aca3-4c99-bfb1-0b4a3844c1d2",
   "metadata": {},
   "outputs": [],
   "source": [
    "# Generate num_traces(no. of samples) over time_steps (no. of time steps)\n",
    "\n",
    "import itertools\n",
    "\n",
    "def process1_price_traces(\n",
    "    start_price: int,\n",
    "    level_param: int,\n",
    "    alpha1: float,\n",
    "    time_steps: int,\n",
    "    num_traces: int\n",
    ") -> np.ndarray:\n",
    "    process= Process1(level_param=level_param, alpha1=alpha1)\n",
    "    start_state= Process1.Sate(price=start_price)\n",
    "    return np.vstack([\n",
    "        np.fromiter((s.price for s in itertools.islice(\n",
    "            simulation(process, start_state),time_steps +1 )), float) \n",
    "        for _ in range(num_traces)])"
   ]
  },
  {
   "cell_type": "markdown",
   "id": "01558343-5d68-475a-acc8-28b180616a03",
   "metadata": {},
   "source": [
    "#### Process 2"
   ]
  },
  {
   "cell_type": "code",
   "execution_count": 67,
   "id": "da779261-0b0f-47eb-b3d2-a2bc77b70919",
   "metadata": {},
   "outputs": [],
   "source": [
    "# mapping function to map the boolean output to int output \n",
    "\n",
    "from typing import Mapping, Optional\n",
    "handy_map: Mapping[Optional[bool],int]={True:-1,False:1, None:0}"
   ]
  },
  {
   "cell_type": "code",
   "execution_count": 68,
   "id": "98e0c210-7d6c-4661-9cef-aa91b516da30",
   "metadata": {},
   "outputs": [],
   "source": [
    "#code \n",
    "\n",
    "@dataclass\n",
    "class Process2:   #Abstract class \n",
    "    @dataclass\n",
    "    class State:  #Nested abstract class\n",
    "        price:int\n",
    "        is_prev_move_up: Optional[bool]\n",
    "    alpha2: float= 0.75\n",
    "\n",
    "    def up_prob(self,state:State)-> float:\n",
    "        return 0.5*(1+self.alpha2* handy_map[state.is_prev_move_up])\n",
    "    def next_state(self,state:State)-> State:\n",
    "        up_move: int= np.random.binomial(1,self.up_prob(state),1)[0]\n",
    "        return Process2.State(\n",
    "            price=state.price+up_move*2-1,\n",
    "            is_prev_move_up=bool(up_move)\n",
    "        )"
   ]
  },
  {
   "cell_type": "code",
   "execution_count": 69,
   "id": "391c963a-af3d-48ee-ae5a-584b596269c0",
   "metadata": {},
   "outputs": [],
   "source": [
    "#generation of sampling traces of the stock price \n",
    "\n",
    "def process2_price_traces(\n",
    "    start_price:int,\n",
    "    alpha2: float,\n",
    "    time_steps:int,\n",
    "    num_traces: int,\n",
    ")-> np.ndarray:\n",
    "    process= Process2(alpha2=alpha2)\n",
    "    start_state= Process2.State(price=start_price, is_prev_move_up=None)\n",
    "    return np.vstack([\n",
    "        np.fromiter((s.price for s in itertools.islice(\n",
    "            simultation(process,start_state),\n",
    "            time_steps+1\n",
    "        )),float) for _ in range(num_traces)\n",
    "    ])"
   ]
  },
  {
   "cell_type": "markdown",
   "id": "e88b2a26",
   "metadata": {},
   "source": [
    "#### Process 3"
   ]
  },
  {
   "cell_type": "code",
   "execution_count": 70,
   "id": "0819ed8b",
   "metadata": {},
   "outputs": [],
   "source": [
    "# The probability of a up move or a down move dataclass for process3\n",
    "@dataclass\n",
    "class Process3:\n",
    "    @dataclass\n",
    "    class State:\n",
    "        num_up_moves: int #attribute of the dataclass State\n",
    "        num_down_moves: int #attribute of the dataclass Process3\n",
    "    alpha3: float=1.0\n",
    "\n",
    "    def up_prob(self,state:State) ->float:\n",
    "        total= state.sum_up_moves+state.num_down_moves\n",
    "        if total==0:\n",
    "            return 0.5\n",
    "        elif state.num_down_moves==0:\n",
    "            return state.num_down_moves** self.alpha3\n",
    "        else:\n",
    "            return 1./(1+(total/state.num_down_moves-1)**self.alpha3)\n",
    "        \n",
    "    def next_state(self,state:State) ->State:\n",
    "        up_move: int= np.random.binomial(1,self.up_prob(state),1)[0]\n",
    "        return Process3.State(\n",
    "            num_up_moves=state.num_up_moves+up_move,\n",
    "            num_down_moves=state.num_down_moves+1-up_move\n",
    "        )"
   ]
  },
  {
   "cell_type": "code",
   "execution_count": 71,
   "id": "124a3a53",
   "metadata": {},
   "outputs": [],
   "source": [
    "#generating sampling traces for the process 3\n",
    "\n",
    "def process3_price_traces(\n",
    "        start_price: int,\n",
    "        alpha3: float,\n",
    "        time_steps:int,\n",
    "        num_traces: int,\n",
    ") ->np.ndarray:\n",
    "    process= Process3(alpha3=alpha3)\n",
    "    start_state= Process3.State(num_up_moves=0, num_down_moves=0)\n",
    "    return np.vstack([\n",
    "        np.fromiter((start_price.num_up_moves-s.num_down_moves \n",
    "                     for s in itertools.isslice(simulation(process,start_state),\n",
    "                                                time_steps+1)),float)\n",
    "        for _ in range(num_traces)\n",
    "    ])"
   ]
  },
  {
   "cell_type": "markdown",
   "id": "664fffcd-0374-4edc-8f97-985144e38cee",
   "metadata": {},
   "source": [
    "#### Markov Process Implementation \n",
    "* Separate classes for non termianl states N, terminal states T, abstract class S for all states(terminal or non terminal)"
   ]
  },
  {
   "cell_type": "code",
   "execution_count": 72,
   "id": "dbf5aa9d-f9cc-45a6-a94b-ca30353da949",
   "metadata": {
    "scrolled": true
   },
   "outputs": [],
   "source": [
    "from abc import ABC\n",
    "from dataclasses import dataclass\n",
    "from typing import Generic, Callable, TypeVar\n",
    "\n",
    "S= TypeVar('S')\n",
    "X= TypeVar('X')\n",
    "\n",
    "class State(ABC, Generic[S]):\n",
    "    state: S\n",
    "    def on_non_terminal(\n",
    "        self,\n",
    "        f: Callable[['NonTerminal[S]'],X],\n",
    "        default:X\n",
    "    ) -> X:\n",
    "        if isinstance(self,NonTerminal):\n",
    "            return f(self)\n",
    "        else: \n",
    "            return default\n",
    "\n",
    "@dataclass(frozen=True)\n",
    "class Terminal(State[S]):\n",
    "    state:S\n",
    "@dataclass(frozen=True)\n",
    "class NonTerminal(State[S]):\n",
    "    state:S"
   ]
  },
  {
   "cell_type": "markdown",
   "id": "b83a7930-a67e-4af4-86f0-4f7bd274c63f",
   "metadata": {},
   "source": [
    "##### Class reresenting Markov Process\n",
    "* Create ABC MarkovProcess "
   ]
  },
  {
   "cell_type": "code",
   "execution_count": 73,
   "id": "cc5ec0cb",
   "metadata": {},
   "outputs": [],
   "source": [
    "from abc import abstractmethod\n",
    "from distribution import Distribution  "
   ]
  }
 ],
 "metadata": {
  "kernelspec": {
   "display_name": "cme241",
   "language": "python",
   "name": "python3"
  },
  "language_info": {
   "codemirror_mode": {
    "name": "ipython",
    "version": 3
   },
   "file_extension": ".py",
   "mimetype": "text/x-python",
   "name": "python",
   "nbconvert_exporter": "python",
   "pygments_lexer": "ipython3",
   "version": "3.12.2"
  }
 },
 "nbformat": 4,
 "nbformat_minor": 5
}
